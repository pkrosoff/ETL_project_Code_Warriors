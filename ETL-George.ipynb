{
 "cells": [
  {
   "cell_type": "code",
   "execution_count": 18,
   "metadata": {},
   "outputs": [],
   "source": [
    "# Dependencies\n",
    "import pandas as pd"
   ]
  },
  {
   "cell_type": "code",
   "execution_count": 19,
   "metadata": {},
   "outputs": [],
   "source": [
    "# Store filepath in a variable\n",
    "file_one = \"resources/food_access_variable_lookup.csv\""
   ]
  },
  {
   "cell_type": "code",
   "execution_count": 20,
   "metadata": {},
   "outputs": [],
   "source": [
    "# Read our Data file with the pandas library\n",
    "# Not every CSV requires an encoding, but be aware this can come up\n",
    "df = pd.read_csv(file_one)"
   ]
  },
  {
   "cell_type": "code",
   "execution_count": 28,
   "metadata": {},
   "outputs": [
    {
     "data": {
      "text/html": [
       "<div>\n",
       "<style scoped>\n",
       "    .dataframe tbody tr th:only-of-type {\n",
       "        vertical-align: middle;\n",
       "    }\n",
       "\n",
       "    .dataframe tbody tr th {\n",
       "        vertical-align: top;\n",
       "    }\n",
       "\n",
       "    .dataframe thead th {\n",
       "        text-align: right;\n",
       "    }\n",
       "</style>\n",
       "<table border=\"1\" class=\"dataframe\">\n",
       "  <thead>\n",
       "    <tr style=\"text-align: right;\">\n",
       "      <th></th>\n",
       "      <th>Field</th>\n",
       "      <th>LongName</th>\n",
       "      <th>Description</th>\n",
       "    </tr>\n",
       "  </thead>\n",
       "  <tbody>\n",
       "    <tr>\n",
       "      <th>1</th>\n",
       "      <td>State</td>\n",
       "      <td>State</td>\n",
       "      <td>State name</td>\n",
       "    </tr>\n",
       "    <tr>\n",
       "      <th>2</th>\n",
       "      <td>County</td>\n",
       "      <td>County</td>\n",
       "      <td>County name</td>\n",
       "    </tr>\n",
       "    <tr>\n",
       "      <th>4</th>\n",
       "      <td>POP2010</td>\n",
       "      <td>Population, tract total</td>\n",
       "      <td>Population count from 2010 census</td>\n",
       "    </tr>\n",
       "    <tr>\n",
       "      <th>25</th>\n",
       "      <td>LAPOP1_10</td>\n",
       "      <td>Low access, population at 1 mile for urban are...</td>\n",
       "      <td>Population count beyond 1 mile for urban areas...</td>\n",
       "    </tr>\n",
       "    <tr>\n",
       "      <th>28</th>\n",
       "      <td>LALOWI1_10</td>\n",
       "      <td>Low access, low-income population at 1 mile fo...</td>\n",
       "      <td>Low income population count beyond 1 mile for ...</td>\n",
       "    </tr>\n",
       "  </tbody>\n",
       "</table>\n",
       "</div>"
      ],
      "text/plain": [
       "         Field                                           LongName  \\\n",
       "1        State                                              State   \n",
       "2       County                                             County   \n",
       "4      POP2010                            Population, tract total   \n",
       "25   LAPOP1_10  Low access, population at 1 mile for urban are...   \n",
       "28  LALOWI1_10  Low access, low-income population at 1 mile fo...   \n",
       "\n",
       "                                          Description  \n",
       "1                                          State name  \n",
       "2                                         County name  \n",
       "4                   Population count from 2010 census  \n",
       "25  Population count beyond 1 mile for urban areas...  \n",
       "28  Low income population count beyond 1 mile for ...  "
      ]
     },
     "execution_count": 28,
     "metadata": {},
     "output_type": "execute_result"
    }
   ],
   "source": [
    "# Cleaning/Insightful panda code\n",
    "# df.head()\n",
    "# df.info()\n",
    "# df.describe()\n",
    "# df.columns()\n",
    "# list(df.columns.values)\n",
    "# df.dtypes()\n",
    "\n",
    "column_list = list(df.columns.values)\n",
    "column_list\n",
    "\n",
    "rows = ['State', 'County', 'LALOWI1_10', 'LAPOP1_10', 'POP2010']\n",
    "\n",
    "filtered_df = df[df['Field'].isin(rows)]\n",
    "filtered_df"
   ]
  },
  {
   "cell_type": "code",
   "execution_count": null,
   "metadata": {},
   "outputs": [],
   "source": [
    "# Export file as a CSV, without the Pandas index, but with the header\n",
    "# df.to_csv(\"Output/fileOne.csv\", index=False, header=True)"
   ]
  }
 ],
 "metadata": {
  "kernelspec": {
   "display_name": "Python 3",
   "language": "python",
   "name": "python3"
  },
  "language_info": {
   "codemirror_mode": {
    "name": "ipython",
    "version": 3
   },
   "file_extension": ".py",
   "mimetype": "text/x-python",
   "name": "python",
   "nbconvert_exporter": "python",
   "pygments_lexer": "ipython3",
   "version": "3.6.10"
  }
 },
 "nbformat": 4,
 "nbformat_minor": 4
}
