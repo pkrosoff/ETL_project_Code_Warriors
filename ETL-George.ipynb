{
 "cells": [
  {
   "cell_type": "code",
   "execution_count": 1,
   "metadata": {},
   "outputs": [],
   "source": [
    "# Dependencies\n",
    "import pandas as pd"
   ]
  },
  {
   "cell_type": "code",
   "execution_count": 2,
   "metadata": {},
   "outputs": [],
   "source": [
    "# Store filepath in a variable\n",
    "file_one = \"resources/food_access_variable_lookup.csv\""
   ]
  },
  {
   "cell_type": "code",
   "execution_count": 3,
   "metadata": {},
   "outputs": [],
   "source": [
    "# Read our Data file with the pandas library\n",
    "# Not every CSV requires an encoding, but be aware this can come up\n",
    "df = pd.read_csv(file_one)"
   ]
  },
  {
   "cell_type": "code",
   "execution_count": 14,
   "metadata": {},
   "outputs": [
    {
     "data": {
      "text/html": [
       "<div>\n",
       "<style scoped>\n",
       "    .dataframe tbody tr th:only-of-type {\n",
       "        vertical-align: middle;\n",
       "    }\n",
       "\n",
       "    .dataframe tbody tr th {\n",
       "        vertical-align: top;\n",
       "    }\n",
       "\n",
       "    .dataframe thead th {\n",
       "        text-align: right;\n",
       "    }\n",
       "</style>\n",
       "<table border=\"1\" class=\"dataframe\">\n",
       "  <thead>\n",
       "    <tr style=\"text-align: right;\">\n",
       "      <th></th>\n",
       "      <th>Field</th>\n",
       "      <th>LongName</th>\n",
       "      <th>Description</th>\n",
       "    </tr>\n",
       "  </thead>\n",
       "  <tbody>\n",
       "    <tr>\n",
       "      <th>0</th>\n",
       "      <td>State</td>\n",
       "      <td>State</td>\n",
       "      <td>State name</td>\n",
       "    </tr>\n",
       "    <tr>\n",
       "      <th>1</th>\n",
       "      <td>County</td>\n",
       "      <td>County</td>\n",
       "      <td>County name</td>\n",
       "    </tr>\n",
       "    <tr>\n",
       "      <th>2</th>\n",
       "      <td>2010_Population</td>\n",
       "      <td>Population, tract total</td>\n",
       "      <td>Population count from 2010 census</td>\n",
       "    </tr>\n",
       "    <tr>\n",
       "      <th>3</th>\n",
       "      <td>Food_Desert_Population</td>\n",
       "      <td>Low access, population at 1 mile for urban are...</td>\n",
       "      <td>Population count beyond 1 mile for urban areas...</td>\n",
       "    </tr>\n",
       "    <tr>\n",
       "      <th>4</th>\n",
       "      <td>Food_Desert_Low_Income</td>\n",
       "      <td>Low access, low-income population at 1 mile fo...</td>\n",
       "      <td>Low income population count beyond 1 mile for ...</td>\n",
       "    </tr>\n",
       "  </tbody>\n",
       "</table>\n",
       "</div>"
      ],
      "text/plain": [
       "                    Field                                           LongName  \\\n",
       "0                   State                                              State   \n",
       "1                  County                                             County   \n",
       "2         2010_Population                            Population, tract total   \n",
       "3  Food_Desert_Population  Low access, population at 1 mile for urban are...   \n",
       "4  Food_Desert_Low_Income  Low access, low-income population at 1 mile fo...   \n",
       "\n",
       "                                         Description  \n",
       "0                                         State name  \n",
       "1                                        County name  \n",
       "2                  Population count from 2010 census  \n",
       "3  Population count beyond 1 mile for urban areas...  \n",
       "4  Low income population count beyond 1 mile for ...  "
      ]
     },
     "execution_count": 14,
     "metadata": {},
     "output_type": "execute_result"
    }
   ],
   "source": [
    "# Cleaning/Insightful panda code\n",
    "# df.head()\n",
    "# df.info()\n",
    "# df.describe()\n",
    "# df.columns()\n",
    "# list(df.columns.values)\n",
    "# df.dtypes()\n",
    "\n",
    "column_list = list(df.columns.values)\n",
    "column_list\n",
    "\n",
    "#columns chosen from large dataset\n",
    "rows = ['State', 'County', 'LALOWI1_10', 'LAPOP1_10', 'POP2010']\n",
    "\n",
    "filtered_df = df[df['Field'].isin(rows)]\n",
    "finished_df = filtered_df.reset_index() #reset index\n",
    "del finished_df['index'] #dropped additional index column\n",
    "\n",
    "#VALUE UPDATES\n",
    "# 'POP2010' to '2010_Population' \n",
    "# 'LAPOP1_10' to 'Food_Desert_Population'\n",
    "# 'LALOWI1_10' to 'Food_Desert_Low_Income'\n",
    "\n",
    "finished_df['Field'] = finished_df['Field'].map({'State': 'State', 'County': 'County',\\\n",
    "                                                 'POP2010': '2010_Population', 'LAPOP1_10': 'Food_Desert_Population',\\\n",
    "                                                 'LALOWI1_10': 'Food_Desert_Low_Income'})\n",
    "finished_df"
   ]
  },
  {
   "cell_type": "code",
   "execution_count": 15,
   "metadata": {},
   "outputs": [],
   "source": [
    "# Export file as a CSV, without the Pandas index, but with the header\n",
    "finished_df.to_csv(\"resources/food_desert_variables.csv\", index=False, header=True)"
   ]
  }
 ],
 "metadata": {
  "kernelspec": {
   "display_name": "Python 3",
   "language": "python",
   "name": "python3"
  },
  "language_info": {
   "codemirror_mode": {
    "name": "ipython",
    "version": 3
   },
   "file_extension": ".py",
   "mimetype": "text/x-python",
   "name": "python",
   "nbconvert_exporter": "python",
   "pygments_lexer": "ipython3",
   "version": "3.7.6"
  }
 },
 "nbformat": 4,
 "nbformat_minor": 4
}
